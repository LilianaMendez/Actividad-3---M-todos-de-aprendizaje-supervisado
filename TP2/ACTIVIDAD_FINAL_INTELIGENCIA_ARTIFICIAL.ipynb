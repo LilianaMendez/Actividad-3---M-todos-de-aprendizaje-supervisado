{
  "nbformat": 4,
  "nbformat_minor": 0,
  "metadata": {
    "colab": {
      "provenance": [],
      "authorship_tag": "ABX9TyNEfay8AK2IJdLIgKKPvZNC",
      "include_colab_link": true
    },
    "kernelspec": {
      "name": "python3",
      "display_name": "Python 3"
    },
    "language_info": {
      "name": "python"
    }
  },
  "cells": [
    {
      "cell_type": "markdown",
      "metadata": {
        "id": "view-in-github",
        "colab_type": "text"
      },
      "source": [
        "<a href=\"https://colab.research.google.com/github/LilianaMendez/Actividad-3---M-todos-de-aprendizaje-supervisado/blob/main/TP2/ACTIVIDAD_FINAL_INTELIGENCIA_ARTIFICIAL.ipynb\" target=\"_parent\"><img src=\"https://colab.research.google.com/assets/colab-badge.svg\" alt=\"Open In Colab\"/></a>"
      ]
    },
    {
      "cell_type": "code",
      "execution_count": null,
      "metadata": {
        "id": "SBAoyJF7raVj"
      },
      "outputs": [],
      "source": [
        "import pandas as pd  #importo pandas"
      ]
    },
    {
      "cell_type": "code",
      "source": [
        "df = pd.read_csv('actividad3bd.csv') # importo la db"
      ],
      "metadata": {
        "id": "VZnUkM3avQtP"
      },
      "execution_count": null,
      "outputs": []
    },
    {
      "cell_type": "code",
      "source": [
        "df  # reviso la base "
      ],
      "metadata": {
        "colab": {
          "base_uri": "https://localhost:8080/",
          "height": 423
        },
        "id": "-6xpUbxCvmuc",
        "outputId": "f2a075ae-2a52-4917-f7d4-db7904ee7e94"
      },
      "execution_count": null,
      "outputs": [
        {
          "output_type": "execute_result",
          "data": {
            "text/plain": [
              "      class                                               text\n",
              "0      Auto   I have recently purchased a J30T with moderat...\n",
              "1    Camera   I bought this product because I need instant ...\n",
              "2      Auto   I have owned my Buick since 53000 km and I am...\n",
              "3    Camera   This was my first Digital camera so I did qui...\n",
              "4    Camera   Minolta DiMAGE 7Hi is in a digital SLR with 5...\n",
              "..      ...                                                ...\n",
              "595    Auto   Recently our 12 year old Nissan Stanza decide...\n",
              "596  Camera   I always do a lot of research before I buy an...\n",
              "597    Auto   This car is an all around good buy  If you ar...\n",
              "598    Auto   I waited to write this until I have had 4 mon...\n",
              "599    Auto   I have been a Montero owner since about 1985 ...\n",
              "\n",
              "[600 rows x 2 columns]"
            ],
            "text/html": [
              "\n",
              "  <div id=\"df-436e501b-45d1-4cd8-b592-3f70a6e1578e\">\n",
              "    <div class=\"colab-df-container\">\n",
              "      <div>\n",
              "<style scoped>\n",
              "    .dataframe tbody tr th:only-of-type {\n",
              "        vertical-align: middle;\n",
              "    }\n",
              "\n",
              "    .dataframe tbody tr th {\n",
              "        vertical-align: top;\n",
              "    }\n",
              "\n",
              "    .dataframe thead th {\n",
              "        text-align: right;\n",
              "    }\n",
              "</style>\n",
              "<table border=\"1\" class=\"dataframe\">\n",
              "  <thead>\n",
              "    <tr style=\"text-align: right;\">\n",
              "      <th></th>\n",
              "      <th>class</th>\n",
              "      <th>text</th>\n",
              "    </tr>\n",
              "  </thead>\n",
              "  <tbody>\n",
              "    <tr>\n",
              "      <th>0</th>\n",
              "      <td>Auto</td>\n",
              "      <td>I have recently purchased a J30T with moderat...</td>\n",
              "    </tr>\n",
              "    <tr>\n",
              "      <th>1</th>\n",
              "      <td>Camera</td>\n",
              "      <td>I bought this product because I need instant ...</td>\n",
              "    </tr>\n",
              "    <tr>\n",
              "      <th>2</th>\n",
              "      <td>Auto</td>\n",
              "      <td>I have owned my Buick since 53000 km and I am...</td>\n",
              "    </tr>\n",
              "    <tr>\n",
              "      <th>3</th>\n",
              "      <td>Camera</td>\n",
              "      <td>This was my first Digital camera so I did qui...</td>\n",
              "    </tr>\n",
              "    <tr>\n",
              "      <th>4</th>\n",
              "      <td>Camera</td>\n",
              "      <td>Minolta DiMAGE 7Hi is in a digital SLR with 5...</td>\n",
              "    </tr>\n",
              "    <tr>\n",
              "      <th>...</th>\n",
              "      <td>...</td>\n",
              "      <td>...</td>\n",
              "    </tr>\n",
              "    <tr>\n",
              "      <th>595</th>\n",
              "      <td>Auto</td>\n",
              "      <td>Recently our 12 year old Nissan Stanza decide...</td>\n",
              "    </tr>\n",
              "    <tr>\n",
              "      <th>596</th>\n",
              "      <td>Camera</td>\n",
              "      <td>I always do a lot of research before I buy an...</td>\n",
              "    </tr>\n",
              "    <tr>\n",
              "      <th>597</th>\n",
              "      <td>Auto</td>\n",
              "      <td>This car is an all around good buy  If you ar...</td>\n",
              "    </tr>\n",
              "    <tr>\n",
              "      <th>598</th>\n",
              "      <td>Auto</td>\n",
              "      <td>I waited to write this until I have had 4 mon...</td>\n",
              "    </tr>\n",
              "    <tr>\n",
              "      <th>599</th>\n",
              "      <td>Auto</td>\n",
              "      <td>I have been a Montero owner since about 1985 ...</td>\n",
              "    </tr>\n",
              "  </tbody>\n",
              "</table>\n",
              "<p>600 rows × 2 columns</p>\n",
              "</div>\n",
              "      <button class=\"colab-df-convert\" onclick=\"convertToInteractive('df-436e501b-45d1-4cd8-b592-3f70a6e1578e')\"\n",
              "              title=\"Convert this dataframe to an interactive table.\"\n",
              "              style=\"display:none;\">\n",
              "        \n",
              "  <svg xmlns=\"http://www.w3.org/2000/svg\" height=\"24px\"viewBox=\"0 0 24 24\"\n",
              "       width=\"24px\">\n",
              "    <path d=\"M0 0h24v24H0V0z\" fill=\"none\"/>\n",
              "    <path d=\"M18.56 5.44l.94 2.06.94-2.06 2.06-.94-2.06-.94-.94-2.06-.94 2.06-2.06.94zm-11 1L8.5 8.5l.94-2.06 2.06-.94-2.06-.94L8.5 2.5l-.94 2.06-2.06.94zm10 10l.94 2.06.94-2.06 2.06-.94-2.06-.94-.94-2.06-.94 2.06-2.06.94z\"/><path d=\"M17.41 7.96l-1.37-1.37c-.4-.4-.92-.59-1.43-.59-.52 0-1.04.2-1.43.59L10.3 9.45l-7.72 7.72c-.78.78-.78 2.05 0 2.83L4 21.41c.39.39.9.59 1.41.59.51 0 1.02-.2 1.41-.59l7.78-7.78 2.81-2.81c.8-.78.8-2.07 0-2.86zM5.41 20L4 18.59l7.72-7.72 1.47 1.35L5.41 20z\"/>\n",
              "  </svg>\n",
              "      </button>\n",
              "      \n",
              "  <style>\n",
              "    .colab-df-container {\n",
              "      display:flex;\n",
              "      flex-wrap:wrap;\n",
              "      gap: 12px;\n",
              "    }\n",
              "\n",
              "    .colab-df-convert {\n",
              "      background-color: #E8F0FE;\n",
              "      border: none;\n",
              "      border-radius: 50%;\n",
              "      cursor: pointer;\n",
              "      display: none;\n",
              "      fill: #1967D2;\n",
              "      height: 32px;\n",
              "      padding: 0 0 0 0;\n",
              "      width: 32px;\n",
              "    }\n",
              "\n",
              "    .colab-df-convert:hover {\n",
              "      background-color: #E2EBFA;\n",
              "      box-shadow: 0px 1px 2px rgba(60, 64, 67, 0.3), 0px 1px 3px 1px rgba(60, 64, 67, 0.15);\n",
              "      fill: #174EA6;\n",
              "    }\n",
              "\n",
              "    [theme=dark] .colab-df-convert {\n",
              "      background-color: #3B4455;\n",
              "      fill: #D2E3FC;\n",
              "    }\n",
              "\n",
              "    [theme=dark] .colab-df-convert:hover {\n",
              "      background-color: #434B5C;\n",
              "      box-shadow: 0px 1px 3px 1px rgba(0, 0, 0, 0.15);\n",
              "      filter: drop-shadow(0px 1px 2px rgba(0, 0, 0, 0.3));\n",
              "      fill: #FFFFFF;\n",
              "    }\n",
              "  </style>\n",
              "\n",
              "      <script>\n",
              "        const buttonEl =\n",
              "          document.querySelector('#df-436e501b-45d1-4cd8-b592-3f70a6e1578e button.colab-df-convert');\n",
              "        buttonEl.style.display =\n",
              "          google.colab.kernel.accessAllowed ? 'block' : 'none';\n",
              "\n",
              "        async function convertToInteractive(key) {\n",
              "          const element = document.querySelector('#df-436e501b-45d1-4cd8-b592-3f70a6e1578e');\n",
              "          const dataTable =\n",
              "            await google.colab.kernel.invokeFunction('convertToInteractive',\n",
              "                                                     [key], {});\n",
              "          if (!dataTable) return;\n",
              "\n",
              "          const docLinkHtml = 'Like what you see? Visit the ' +\n",
              "            '<a target=\"_blank\" href=https://colab.research.google.com/notebooks/data_table.ipynb>data table notebook</a>'\n",
              "            + ' to learn more about interactive tables.';\n",
              "          element.innerHTML = '';\n",
              "          dataTable['output_type'] = 'display_data';\n",
              "          await google.colab.output.renderOutput(dataTable, element);\n",
              "          const docLink = document.createElement('div');\n",
              "          docLink.innerHTML = docLinkHtml;\n",
              "          element.appendChild(docLink);\n",
              "        }\n",
              "      </script>\n",
              "    </div>\n",
              "  </div>\n",
              "  "
            ]
          },
          "metadata": {},
          "execution_count": 4
        }
      ]
    },
    {
      "cell_type": "code",
      "source": [
        "df.info  #reviso la informacion de los datos"
      ],
      "metadata": {
        "colab": {
          "base_uri": "https://localhost:8080/"
        },
        "id": "BzGztg3kwPmC",
        "outputId": "0d7e0864-ff4f-494d-bdc1-d6e68bd1e49e"
      },
      "execution_count": null,
      "outputs": [
        {
          "output_type": "execute_result",
          "data": {
            "text/plain": [
              "<bound method DataFrame.info of       class                                               text\n",
              "0      Auto   I have recently purchased a J30T with moderat...\n",
              "1    Camera   I bought this product because I need instant ...\n",
              "2      Auto   I have owned my Buick since 53000 km and I am...\n",
              "3    Camera   This was my first Digital camera so I did qui...\n",
              "4    Camera   Minolta DiMAGE 7Hi is in a digital SLR with 5...\n",
              "..      ...                                                ...\n",
              "595    Auto   Recently our 12 year old Nissan Stanza decide...\n",
              "596  Camera   I always do a lot of research before I buy an...\n",
              "597    Auto   This car is an all around good buy  If you ar...\n",
              "598    Auto   I waited to write this until I have had 4 mon...\n",
              "599    Auto   I have been a Montero owner since about 1985 ...\n",
              "\n",
              "[600 rows x 2 columns]>"
            ]
          },
          "metadata": {},
          "execution_count": 5
        }
      ]
    },
    {
      "cell_type": "code",
      "source": [
        "df.loc[0]  #para ver una sola fila de db"
      ],
      "metadata": {
        "colab": {
          "base_uri": "https://localhost:8080/"
        },
        "id": "xi49h_RxwVdN",
        "outputId": "57b59a82-ac16-4492-cc6e-2af7004a788d"
      },
      "execution_count": null,
      "outputs": [
        {
          "output_type": "execute_result",
          "data": {
            "text/plain": [
              "class                                                 Auto\n",
              "text      I have recently purchased a J30T with moderat...\n",
              "Name: 0, dtype: object"
            ]
          },
          "metadata": {},
          "execution_count": 6
        }
      ]
    },
    {
      "cell_type": "code",
      "source": [
        "pd.set_option(\"display.max_colwidth\", None)  #para ver todo el ancho de la columna "
      ],
      "metadata": {
        "id": "oCxdB0iVwswi"
      },
      "execution_count": null,
      "outputs": []
    },
    {
      "cell_type": "code",
      "source": [
        "df.loc[0]"
      ],
      "metadata": {
        "colab": {
          "base_uri": "https://localhost:8080/"
        },
        "id": "h_mBMxhA1U3C",
        "outputId": "3db41bab-9887-4aa6-8c66-f23dd67d9b77"
      },
      "execution_count": null,
      "outputs": [
        {
          "output_type": "execute_result",
          "data": {
            "text/plain": [
              "class                                                                                                                                                                                                                                                                                                                                                                                                                                                                                                                                                                                                                                                                                                                                                                                                                                                                                                                                                                                                                                                                                                                                                                                                                                               Auto\n",
              "text      I have recently purchased a J30T with moderate miles  I shopped for a car that was looked after and paid more for it  As a former Auto Technician I know what to look for and what to expect yet every time I drive this car I say to my self  Dam that s a great car   and Yes I truly do  The car affords a level of style and comfort that is beyond compare for the price  I had looked at a number of J30 s with some having covered 160K miles   I checked them to see where the problems show  They were great other than just basic owner neglect The car is extremely quiet and smooth yet does not distance itself from a mild degree of sportiness  Performance is smooth yet impressive yet the power is well handled by braking and suspension systems of similar refinement The appointments available with the car were somewhat sparse yet the standard of quality and functionality were apparent  The Bose sound system for example has remarkable output and clarity without all the fancy dials  My only complaint  after 15k miles  is a lack of fold down rear seating and slightly high fuel consumption I went from driving a Porsche to the Infiniti and feel it was a step up in style and understated performance  \n",
              "Name: 0, dtype: object"
            ]
          },
          "metadata": {},
          "execution_count": 10
        }
      ]
    },
    {
      "cell_type": "code",
      "source": [
        "df ['text'].str.count('')   # para contar las palabras que tiene el texto "
      ],
      "metadata": {
        "colab": {
          "base_uri": "https://localhost:8080/"
        },
        "id": "XA04cEpq1mxc",
        "outputId": "38303684-f629-45a9-dbc7-509dabac7a5d"
      },
      "execution_count": null,
      "outputs": [
        {
          "output_type": "execute_result",
          "data": {
            "text/plain": [
              "0      1200\n",
              "1      2793\n",
              "2      1365\n",
              "3       979\n",
              "4      5434\n",
              "       ... \n",
              "595    1998\n",
              "596    1652\n",
              "597     764\n",
              "598    2329\n",
              "599    1279\n",
              "Name: text, Length: 600, dtype: int64"
            ]
          },
          "metadata": {},
          "execution_count": 11
        }
      ]
    },
    {
      "cell_type": "code",
      "source": [
        "df ['text'].str.split().str.len()  #para el conteo de palabras sin que tome en cuenta los espacios"
      ],
      "metadata": {
        "colab": {
          "base_uri": "https://localhost:8080/"
        },
        "id": "wMhsXGdI3DuB",
        "outputId": "dc2f9160-4478-4bed-975a-862542c42a06"
      },
      "execution_count": null,
      "outputs": [
        {
          "output_type": "execute_result",
          "data": {
            "text/plain": [
              "0      221\n",
              "1      536\n",
              "2      278\n",
              "3      202\n",
              "4      974\n",
              "      ... \n",
              "595    408\n",
              "596    341\n",
              "597    158\n",
              "598    461\n",
              "599    237\n",
              "Name: text, Length: 600, dtype: int64"
            ]
          },
          "metadata": {},
          "execution_count": 12
        }
      ]
    },
    {
      "cell_type": "code",
      "source": [
        "df ['text'].str.split().str.len().mean() # promedio de palabras entre todas las filas "
      ],
      "metadata": {
        "colab": {
          "base_uri": "https://localhost:8080/"
        },
        "id": "kB035XMp3tTa",
        "outputId": "955ef091-78d0-480f-f06b-a21468815495"
      },
      "execution_count": null,
      "outputs": [
        {
          "output_type": "execute_result",
          "data": {
            "text/plain": [
              "529.8733333333333"
            ]
          },
          "metadata": {},
          "execution_count": 13
        }
      ]
    },
    {
      "cell_type": "code",
      "source": [
        "df ['text'].str.split().str.len().describe() #describcion de los datos"
      ],
      "metadata": {
        "colab": {
          "base_uri": "https://localhost:8080/"
        },
        "id": "jeGk34XX4XuP",
        "outputId": "09f449c3-4963-455f-8485-bdaed6c42f2e"
      },
      "execution_count": null,
      "outputs": [
        {
          "output_type": "execute_result",
          "data": {
            "text/plain": [
              "count     600.000000\n",
              "mean      529.873333\n",
              "std       511.702057\n",
              "min        80.000000\n",
              "25%       237.000000\n",
              "50%       372.000000\n",
              "75%       620.500000\n",
              "max      4982.000000\n",
              "Name: text, dtype: float64"
            ]
          },
          "metadata": {},
          "execution_count": 14
        }
      ]
    },
    {
      "cell_type": "code",
      "source": [
        "df['class'].value_counts()"
      ],
      "metadata": {
        "colab": {
          "base_uri": "https://localhost:8080/"
        },
        "id": "qBIGuJPL5Kw8",
        "outputId": "c9a0f5a9-eced-4ffa-9580-46b4186f4d17"
      },
      "execution_count": null,
      "outputs": [
        {
          "output_type": "execute_result",
          "data": {
            "text/plain": [
              "Camera    350\n",
              "Auto      250\n",
              "Name: class, dtype: int64"
            ]
          },
          "metadata": {},
          "execution_count": 15
        }
      ]
    },
    {
      "cell_type": "code",
      "source": [
        "#3 preparar los datos"
      ],
      "metadata": {
        "id": "eq4qHDWg5zOA"
      },
      "execution_count": null,
      "outputs": []
    },
    {
      "cell_type": "code",
      "source": [
        "df.isnull().values.any()  # identifico datos nulos en la df"
      ],
      "metadata": {
        "colab": {
          "base_uri": "https://localhost:8080/"
        },
        "id": "_iMAx1CA53LQ",
        "outputId": "e6bd2f01-f936-423a-d6f7-570f1d8d5aa6"
      },
      "execution_count": null,
      "outputs": [
        {
          "output_type": "execute_result",
          "data": {
            "text/plain": [
              "False"
            ]
          },
          "metadata": {},
          "execution_count": 16
        }
      ]
    },
    {
      "cell_type": "code",
      "source": [
        "df.isnull()  #revisar los datos que encuentre null , no hay ninguno "
      ],
      "metadata": {
        "colab": {
          "base_uri": "https://localhost:8080/",
          "height": 423
        },
        "id": "yFFyfARi6jQ6",
        "outputId": "4ddf4823-5c46-4347-962d-67dd9231440b"
      },
      "execution_count": null,
      "outputs": [
        {
          "output_type": "execute_result",
          "data": {
            "text/plain": [
              "     class   text\n",
              "0    False  False\n",
              "1    False  False\n",
              "2    False  False\n",
              "3    False  False\n",
              "4    False  False\n",
              "..     ...    ...\n",
              "595  False  False\n",
              "596  False  False\n",
              "597  False  False\n",
              "598  False  False\n",
              "599  False  False\n",
              "\n",
              "[600 rows x 2 columns]"
            ],
            "text/html": [
              "\n",
              "  <div id=\"df-f6b2ad52-29dc-45ca-9d12-b8a4e980e576\">\n",
              "    <div class=\"colab-df-container\">\n",
              "      <div>\n",
              "<style scoped>\n",
              "    .dataframe tbody tr th:only-of-type {\n",
              "        vertical-align: middle;\n",
              "    }\n",
              "\n",
              "    .dataframe tbody tr th {\n",
              "        vertical-align: top;\n",
              "    }\n",
              "\n",
              "    .dataframe thead th {\n",
              "        text-align: right;\n",
              "    }\n",
              "</style>\n",
              "<table border=\"1\" class=\"dataframe\">\n",
              "  <thead>\n",
              "    <tr style=\"text-align: right;\">\n",
              "      <th></th>\n",
              "      <th>class</th>\n",
              "      <th>text</th>\n",
              "    </tr>\n",
              "  </thead>\n",
              "  <tbody>\n",
              "    <tr>\n",
              "      <th>0</th>\n",
              "      <td>False</td>\n",
              "      <td>False</td>\n",
              "    </tr>\n",
              "    <tr>\n",
              "      <th>1</th>\n",
              "      <td>False</td>\n",
              "      <td>False</td>\n",
              "    </tr>\n",
              "    <tr>\n",
              "      <th>2</th>\n",
              "      <td>False</td>\n",
              "      <td>False</td>\n",
              "    </tr>\n",
              "    <tr>\n",
              "      <th>3</th>\n",
              "      <td>False</td>\n",
              "      <td>False</td>\n",
              "    </tr>\n",
              "    <tr>\n",
              "      <th>4</th>\n",
              "      <td>False</td>\n",
              "      <td>False</td>\n",
              "    </tr>\n",
              "    <tr>\n",
              "      <th>...</th>\n",
              "      <td>...</td>\n",
              "      <td>...</td>\n",
              "    </tr>\n",
              "    <tr>\n",
              "      <th>595</th>\n",
              "      <td>False</td>\n",
              "      <td>False</td>\n",
              "    </tr>\n",
              "    <tr>\n",
              "      <th>596</th>\n",
              "      <td>False</td>\n",
              "      <td>False</td>\n",
              "    </tr>\n",
              "    <tr>\n",
              "      <th>597</th>\n",
              "      <td>False</td>\n",
              "      <td>False</td>\n",
              "    </tr>\n",
              "    <tr>\n",
              "      <th>598</th>\n",
              "      <td>False</td>\n",
              "      <td>False</td>\n",
              "    </tr>\n",
              "    <tr>\n",
              "      <th>599</th>\n",
              "      <td>False</td>\n",
              "      <td>False</td>\n",
              "    </tr>\n",
              "  </tbody>\n",
              "</table>\n",
              "<p>600 rows × 2 columns</p>\n",
              "</div>\n",
              "      <button class=\"colab-df-convert\" onclick=\"convertToInteractive('df-f6b2ad52-29dc-45ca-9d12-b8a4e980e576')\"\n",
              "              title=\"Convert this dataframe to an interactive table.\"\n",
              "              style=\"display:none;\">\n",
              "        \n",
              "  <svg xmlns=\"http://www.w3.org/2000/svg\" height=\"24px\"viewBox=\"0 0 24 24\"\n",
              "       width=\"24px\">\n",
              "    <path d=\"M0 0h24v24H0V0z\" fill=\"none\"/>\n",
              "    <path d=\"M18.56 5.44l.94 2.06.94-2.06 2.06-.94-2.06-.94-.94-2.06-.94 2.06-2.06.94zm-11 1L8.5 8.5l.94-2.06 2.06-.94-2.06-.94L8.5 2.5l-.94 2.06-2.06.94zm10 10l.94 2.06.94-2.06 2.06-.94-2.06-.94-.94-2.06-.94 2.06-2.06.94z\"/><path d=\"M17.41 7.96l-1.37-1.37c-.4-.4-.92-.59-1.43-.59-.52 0-1.04.2-1.43.59L10.3 9.45l-7.72 7.72c-.78.78-.78 2.05 0 2.83L4 21.41c.39.39.9.59 1.41.59.51 0 1.02-.2 1.41-.59l7.78-7.78 2.81-2.81c.8-.78.8-2.07 0-2.86zM5.41 20L4 18.59l7.72-7.72 1.47 1.35L5.41 20z\"/>\n",
              "  </svg>\n",
              "      </button>\n",
              "      \n",
              "  <style>\n",
              "    .colab-df-container {\n",
              "      display:flex;\n",
              "      flex-wrap:wrap;\n",
              "      gap: 12px;\n",
              "    }\n",
              "\n",
              "    .colab-df-convert {\n",
              "      background-color: #E8F0FE;\n",
              "      border: none;\n",
              "      border-radius: 50%;\n",
              "      cursor: pointer;\n",
              "      display: none;\n",
              "      fill: #1967D2;\n",
              "      height: 32px;\n",
              "      padding: 0 0 0 0;\n",
              "      width: 32px;\n",
              "    }\n",
              "\n",
              "    .colab-df-convert:hover {\n",
              "      background-color: #E2EBFA;\n",
              "      box-shadow: 0px 1px 2px rgba(60, 64, 67, 0.3), 0px 1px 3px 1px rgba(60, 64, 67, 0.15);\n",
              "      fill: #174EA6;\n",
              "    }\n",
              "\n",
              "    [theme=dark] .colab-df-convert {\n",
              "      background-color: #3B4455;\n",
              "      fill: #D2E3FC;\n",
              "    }\n",
              "\n",
              "    [theme=dark] .colab-df-convert:hover {\n",
              "      background-color: #434B5C;\n",
              "      box-shadow: 0px 1px 3px 1px rgba(0, 0, 0, 0.15);\n",
              "      filter: drop-shadow(0px 1px 2px rgba(0, 0, 0, 0.3));\n",
              "      fill: #FFFFFF;\n",
              "    }\n",
              "  </style>\n",
              "\n",
              "      <script>\n",
              "        const buttonEl =\n",
              "          document.querySelector('#df-f6b2ad52-29dc-45ca-9d12-b8a4e980e576 button.colab-df-convert');\n",
              "        buttonEl.style.display =\n",
              "          google.colab.kernel.accessAllowed ? 'block' : 'none';\n",
              "\n",
              "        async function convertToInteractive(key) {\n",
              "          const element = document.querySelector('#df-f6b2ad52-29dc-45ca-9d12-b8a4e980e576');\n",
              "          const dataTable =\n",
              "            await google.colab.kernel.invokeFunction('convertToInteractive',\n",
              "                                                     [key], {});\n",
              "          if (!dataTable) return;\n",
              "\n",
              "          const docLinkHtml = 'Like what you see? Visit the ' +\n",
              "            '<a target=\"_blank\" href=https://colab.research.google.com/notebooks/data_table.ipynb>data table notebook</a>'\n",
              "            + ' to learn more about interactive tables.';\n",
              "          element.innerHTML = '';\n",
              "          dataTable['output_type'] = 'display_data';\n",
              "          await google.colab.output.renderOutput(dataTable, element);\n",
              "          const docLink = document.createElement('div');\n",
              "          docLink.innerHTML = docLinkHtml;\n",
              "          element.appendChild(docLink);\n",
              "        }\n",
              "      </script>\n",
              "    </div>\n",
              "  </div>\n",
              "  "
            ]
          },
          "metadata": {},
          "execution_count": 17
        }
      ]
    },
    {
      "cell_type": "code",
      "source": [
        "df.isnull().sum() # sumar los datos null en caso de que se hallen , para este ejemplo no hay datos nulos "
      ],
      "metadata": {
        "colab": {
          "base_uri": "https://localhost:8080/"
        },
        "id": "zkrNGO926-6X",
        "outputId": "1b9b9ebd-9da4-4a00-fc35-1a75aef197a3"
      },
      "execution_count": null,
      "outputs": [
        {
          "output_type": "execute_result",
          "data": {
            "text/plain": [
              "class    0\n",
              "text     0\n",
              "dtype: int64"
            ]
          },
          "metadata": {},
          "execution_count": 21
        }
      ]
    },
    {
      "cell_type": "code",
      "source": [
        "df.isnull().sum().sum()"
      ],
      "metadata": {
        "colab": {
          "base_uri": "https://localhost:8080/"
        },
        "id": "x-hnARl_7Kj9",
        "outputId": "1e5b58fb-da3e-4cd4-ba30-3224db934ad7"
      },
      "execution_count": null,
      "outputs": [
        {
          "output_type": "execute_result",
          "data": {
            "text/plain": [
              "0"
            ]
          },
          "metadata": {},
          "execution_count": 20
        }
      ]
    },
    {
      "cell_type": "code",
      "source": [
        "# 4 entrenar el modelo"
      ],
      "metadata": {
        "id": "GsU9VKrn736B"
      },
      "execution_count": null,
      "outputs": []
    },
    {
      "cell_type": "code",
      "source": [
        "from sklearn.model_selection import train_test_split\n",
        "train, test = train_test_split(df, test_size=0.33, random_state=42)  # divido los datos en modelo y test "
      ],
      "metadata": {
        "id": "Q8KkZHJU_wZW"
      },
      "execution_count": 34,
      "outputs": []
    },
    {
      "cell_type": "code",
      "source": [
        "train.head(2) #reviso que queden separados los datos  en train "
      ],
      "metadata": {
        "colab": {
          "base_uri": "https://localhost:8080/",
          "height": 381
        },
        "id": "ODkepym0C6f3",
        "outputId": "d96be376-3b47-4e8b-9346-6ce063ff26fa"
      },
      "execution_count": 35,
      "outputs": [
        {
          "output_type": "execute_result",
          "data": {
            "text/plain": [
              "      class  \\\n",
              "509  Camera   \n",
              "149  Camera   \n",
              "\n",
              "                                                                                                                                                                                                                                                                                                                                                                                                                                                                                                                                                                                                                                                                                                                                                                                                                                                                                                                                                                                                                                                                                                                                                                                                                                                                 text  \n",
              "509   I had been hinting at a digital camera for Christmas but was surprised when my husband actually got one  After talking to several people  both sales people and those that had digital cameras  he chose the Olympus D 490 Zoom  It s been very easy to figure out with the help of the manual  The manual itself is easy to understand and it s not difficult to find something if I have a question  The camera can be used in two different ways  You can simply open the cover and point and shoot  or you can also open the lens cover and view your subjects through the monitor  much like looking through a cam corder screen  So far the pictures have been of good quality  though I haven t tried to print one out yet  Because my main objective at this point is to email pictures to friends and family I can choose a lower resolution setting and get more pictures at a time  but if I chose to print it s very easy to change the settings to a higher resolution  I d like to have a few of the accessories but the camera works just fine without them  they would just make the download to my computer easier and faster  I have an older computer so it takes a couple of minutes to download but not so long that it gets frustrating    \n",
              "149                                                                                                                                                                                                                                                                                                                                                                                                    After looking through a plethora of digital cameras at my local CompUSA  I chose Casio s QV 8000SX  I selected this model for several major reasons  One the camera is reasonably priced  especially when compared to its ling list of features  And talking about features  the QV 8000SX has a laundry list full of them  It has a wonderful 8x zoom  color selection modes that even allow a sepia print setting  And probably the most important feature  very high picture quality  Another feature which I found particularly appealing is the screw mount on the lens  Going back to my 35mm roots  I like the idea of being able to add a filter to protect the lens proper The only feature missing from this excellent unit is an ac adapter  This has to be purchased separately  But apart from that  it s a great camera at a great price br br    "
            ],
            "text/html": [
              "\n",
              "  <div id=\"df-a6e6988f-3771-4ac6-aa88-3cf6fcac3896\">\n",
              "    <div class=\"colab-df-container\">\n",
              "      <div>\n",
              "<style scoped>\n",
              "    .dataframe tbody tr th:only-of-type {\n",
              "        vertical-align: middle;\n",
              "    }\n",
              "\n",
              "    .dataframe tbody tr th {\n",
              "        vertical-align: top;\n",
              "    }\n",
              "\n",
              "    .dataframe thead th {\n",
              "        text-align: right;\n",
              "    }\n",
              "</style>\n",
              "<table border=\"1\" class=\"dataframe\">\n",
              "  <thead>\n",
              "    <tr style=\"text-align: right;\">\n",
              "      <th></th>\n",
              "      <th>class</th>\n",
              "      <th>text</th>\n",
              "    </tr>\n",
              "  </thead>\n",
              "  <tbody>\n",
              "    <tr>\n",
              "      <th>509</th>\n",
              "      <td>Camera</td>\n",
              "      <td>I had been hinting at a digital camera for Christmas but was surprised when my husband actually got one  After talking to several people  both sales people and those that had digital cameras  he chose the Olympus D 490 Zoom  It s been very easy to figure out with the help of the manual  The manual itself is easy to understand and it s not difficult to find something if I have a question  The camera can be used in two different ways  You can simply open the cover and point and shoot  or you can also open the lens cover and view your subjects through the monitor  much like looking through a cam corder screen  So far the pictures have been of good quality  though I haven t tried to print one out yet  Because my main objective at this point is to email pictures to friends and family I can choose a lower resolution setting and get more pictures at a time  but if I chose to print it s very easy to change the settings to a higher resolution  I d like to have a few of the accessories but the camera works just fine without them  they would just make the download to my computer easier and faster  I have an older computer so it takes a couple of minutes to download but not so long that it gets frustrating</td>\n",
              "    </tr>\n",
              "    <tr>\n",
              "      <th>149</th>\n",
              "      <td>Camera</td>\n",
              "      <td>After looking through a plethora of digital cameras at my local CompUSA  I chose Casio s QV 8000SX  I selected this model for several major reasons  One the camera is reasonably priced  especially when compared to its ling list of features  And talking about features  the QV 8000SX has a laundry list full of them  It has a wonderful 8x zoom  color selection modes that even allow a sepia print setting  And probably the most important feature  very high picture quality  Another feature which I found particularly appealing is the screw mount on the lens  Going back to my 35mm roots  I like the idea of being able to add a filter to protect the lens proper The only feature missing from this excellent unit is an ac adapter  This has to be purchased separately  But apart from that  it s a great camera at a great price br br</td>\n",
              "    </tr>\n",
              "  </tbody>\n",
              "</table>\n",
              "</div>\n",
              "      <button class=\"colab-df-convert\" onclick=\"convertToInteractive('df-a6e6988f-3771-4ac6-aa88-3cf6fcac3896')\"\n",
              "              title=\"Convert this dataframe to an interactive table.\"\n",
              "              style=\"display:none;\">\n",
              "        \n",
              "  <svg xmlns=\"http://www.w3.org/2000/svg\" height=\"24px\"viewBox=\"0 0 24 24\"\n",
              "       width=\"24px\">\n",
              "    <path d=\"M0 0h24v24H0V0z\" fill=\"none\"/>\n",
              "    <path d=\"M18.56 5.44l.94 2.06.94-2.06 2.06-.94-2.06-.94-.94-2.06-.94 2.06-2.06.94zm-11 1L8.5 8.5l.94-2.06 2.06-.94-2.06-.94L8.5 2.5l-.94 2.06-2.06.94zm10 10l.94 2.06.94-2.06 2.06-.94-2.06-.94-.94-2.06-.94 2.06-2.06.94z\"/><path d=\"M17.41 7.96l-1.37-1.37c-.4-.4-.92-.59-1.43-.59-.52 0-1.04.2-1.43.59L10.3 9.45l-7.72 7.72c-.78.78-.78 2.05 0 2.83L4 21.41c.39.39.9.59 1.41.59.51 0 1.02-.2 1.41-.59l7.78-7.78 2.81-2.81c.8-.78.8-2.07 0-2.86zM5.41 20L4 18.59l7.72-7.72 1.47 1.35L5.41 20z\"/>\n",
              "  </svg>\n",
              "      </button>\n",
              "      \n",
              "  <style>\n",
              "    .colab-df-container {\n",
              "      display:flex;\n",
              "      flex-wrap:wrap;\n",
              "      gap: 12px;\n",
              "    }\n",
              "\n",
              "    .colab-df-convert {\n",
              "      background-color: #E8F0FE;\n",
              "      border: none;\n",
              "      border-radius: 50%;\n",
              "      cursor: pointer;\n",
              "      display: none;\n",
              "      fill: #1967D2;\n",
              "      height: 32px;\n",
              "      padding: 0 0 0 0;\n",
              "      width: 32px;\n",
              "    }\n",
              "\n",
              "    .colab-df-convert:hover {\n",
              "      background-color: #E2EBFA;\n",
              "      box-shadow: 0px 1px 2px rgba(60, 64, 67, 0.3), 0px 1px 3px 1px rgba(60, 64, 67, 0.15);\n",
              "      fill: #174EA6;\n",
              "    }\n",
              "\n",
              "    [theme=dark] .colab-df-convert {\n",
              "      background-color: #3B4455;\n",
              "      fill: #D2E3FC;\n",
              "    }\n",
              "\n",
              "    [theme=dark] .colab-df-convert:hover {\n",
              "      background-color: #434B5C;\n",
              "      box-shadow: 0px 1px 3px 1px rgba(0, 0, 0, 0.15);\n",
              "      filter: drop-shadow(0px 1px 2px rgba(0, 0, 0, 0.3));\n",
              "      fill: #FFFFFF;\n",
              "    }\n",
              "  </style>\n",
              "\n",
              "      <script>\n",
              "        const buttonEl =\n",
              "          document.querySelector('#df-a6e6988f-3771-4ac6-aa88-3cf6fcac3896 button.colab-df-convert');\n",
              "        buttonEl.style.display =\n",
              "          google.colab.kernel.accessAllowed ? 'block' : 'none';\n",
              "\n",
              "        async function convertToInteractive(key) {\n",
              "          const element = document.querySelector('#df-a6e6988f-3771-4ac6-aa88-3cf6fcac3896');\n",
              "          const dataTable =\n",
              "            await google.colab.kernel.invokeFunction('convertToInteractive',\n",
              "                                                     [key], {});\n",
              "          if (!dataTable) return;\n",
              "\n",
              "          const docLinkHtml = 'Like what you see? Visit the ' +\n",
              "            '<a target=\"_blank\" href=https://colab.research.google.com/notebooks/data_table.ipynb>data table notebook</a>'\n",
              "            + ' to learn more about interactive tables.';\n",
              "          element.innerHTML = '';\n",
              "          dataTable['output_type'] = 'display_data';\n",
              "          await google.colab.output.renderOutput(dataTable, element);\n",
              "          const docLink = document.createElement('div');\n",
              "          docLink.innerHTML = docLinkHtml;\n",
              "          element.appendChild(docLink);\n",
              "        }\n",
              "      </script>\n",
              "    </div>\n",
              "  </div>\n",
              "  "
            ]
          },
          "metadata": {},
          "execution_count": 35
        }
      ]
    },
    {
      "cell_type": "code",
      "source": [
        "test.head(2)  #reviso que queden separados los datos para test"
      ],
      "metadata": {
        "colab": {
          "base_uri": "https://localhost:8080/",
          "height": 745
        },
        "id": "0MnnTxVsDRUZ",
        "outputId": "e7638d81-1011-4a04-9383-1ab23cfcce9e"
      },
      "execution_count": 36,
      "outputs": [
        {
          "output_type": "execute_result",
          "data": {
            "text/plain": [
              "      class  \\\n",
              "110  Camera   \n",
              "419    Auto   \n",
              "\n",
              "                                                                                                                                                                                                                                                                                                                                                                                                                                                                                                                                                                                                                                                                                                                                                                                                                                                                                                                                                                                                                                                                                                                                                                                                                                                                                                                                                                                                                                                                                                                                                                                                                                                                                                                                                                                                                                                                                                                                                                                                                                                                                                                                                                                                                                                                                                                                                                                                                                                                                                                                                                                                                                                                                                                                                                                                                                                                                                                                                                                                                                                                                                                                                                                                                                                                                                                                                                                                                                                                                                                                                                                                                                                                                                                                                                                                                                                                                                                                                                                                                                                                                                                                                                                                                                       text  \n",
              "110   Having looked around the Web for a digital camera I was looking at either the Z1 or the Canon EOD300 Rebel  Unfortunately the Rebel was out of my price range so I bought the Z1  Overall I made a very good choice The camera takes good pictures in the majority of circumstances  You can have full control over the aperture  exposure and focus should you wish too  The camera can take over some or all of the functions too if you wish Low light shooting is easy and there is an option for sunset preserve to keep the warmth of a picture rather than overexpose to simulate full light  Fast moving objects need good light  as you would expect  but the camera can still operate at speeds approaching 1600 ISO  the speeds are quoted in seconds and fractions so you will have to convert to ISO yourself if you are that way inclined Night shooting is an exercise in steadyness and the threaded mount is inline with the lens so tripods are easy to attach and use with the camera  The position of the trigger means taht a decent push is needed often spoiling the shot through movement on the tripod  I tended to use the time delay function after lining the shot up  since the exposur time was generally 2 seconds you wouldnt be able to take moment in time shots anyway as you would blur  however if motion blur was wanted for a set time then the lack of a remote may hinder you The flash was good with the red eye reduction setting annoying  3 distinct flashes are used rather than the usual strobe  but effective The viewfinder shows a full picture but it has an obvious border so you will get more than you see  The LCD screen shows the full picture  observed by me not scientifically proved  The viewfinder and LCD screen are served by the same mechanism and therefore cannot be activated at the same time  Long exposure shots are restricted to 10 seconds maximum  the sensor simply cannot take long exposure  I typically call long exposure at least 1 minute with traditional cameras taking maybe 30 minutes onwards  This is not a fault of the camera as most digital cameras suffer the same fate of  overheated  CCDs  Only the EOD300 can have long exposures  I have seen a 10 minute exposure picture  for a budget camera 10x optical zoom is terrific and even the autofocus at maximum zoom is quick and efficient  A certain knack needs to be adopted with the camera since the shutter trigger is a two position button  A half press will continually focus and a full press will take the picture  therefore if you simply press the button the shutter will appear to be slow since the focusing mechanism will kick in before the picture is taken  If you are anticipating a fast shot then half hold the button to activate the autofocus then the shutter can be activated quickly  Usign this methods the camer was faultless and fast I have never been a fan of megapixels to rate a camera  Rather the resolutions on offer are good and true  2048 scale very well   but dont expect many per a 128Mb card never mind the bundled 16Mb  Colour reproduction is faithful on daylight shots and average for evening shots with maybe a hint of overglow Battery life is great on rechargeables  I got 300 shots from a set of 2100 NIMH before they needed charging and I was using autofocus and zoom a lot  however if you use alkalines then expect 200 before the batteries are drained   note they wont be useless  good enough for remotes or clocks  but they have lost the edge for the drain the camera needs For negative points  the build quality is average  The mechanican shutter jammed on my only 1 week into using it  I couldnt shift between LCD and viewfinder and a heavy press was needed on the back screen to release the shutter  Not good  The battery compartment seems VERY flimsy and I worry about breaking it everytime I use it  and I charge my batteries in a smart charger not internally  No AC supply is included but the majority of people who need one will have a regulated supply to hand anyway The lack of remote function is the only noteable omission from a rather useful bargain camera    \n",
              "419                                                                                                                                                                                                                                                                                                                                                                                                                                                                                                                                                                                                                                                                                                                                                                                                                                                                                                                                                                                                                                                                                                                                                                                                                                                                                                                                                                                                                                                                                                                                                                                                                                                                                                                                                                                                                                                                                                                                                                                                                                                                                                                                                                                                                                                                                                                                                                                                                                                                                                                                                                                                                                                                                                                                                                                                                                                                                                                                                                                                                                                            I bought a 2002 Eclipse because I had a 1992 V4 RS that I had to get rid of due to the birth of my daughter  Now that she no longer requires attention while I m having to manually shift gears  I have me another one  I found the V6 GT to be A LOT tighter than the 1992 I had  My husband and I recently went on an 1 100 mile trip in the car to far West Texas  We found ourselves repeatedly dodging deer  raccoons  jackrabbits  lizards and any other critter that happened on the road  The Eclipse hugged the curves  stayed on the road and responded quickly and this was at speeds of 80 90 miles per hour  It is also quite a bit quieter with very little road noise or engine noise  The clutch and gear shift is soft and quick  I don t have any problems with grinding  while shifting  when I skip a gear  The sound system is nice  My daughters car seat fits nicely in the back and I don t have problems getting her out  I can fit more stuff in my Eclipse than I can in my Stratus  I would recommend this car for a responsible  mature driver  I would not recommend it for a teenager  The car will flat get away from you given the chance    "
            ],
            "text/html": [
              "\n",
              "  <div id=\"df-30872296-4f8b-47b5-a11c-9fa4576d669d\">\n",
              "    <div class=\"colab-df-container\">\n",
              "      <div>\n",
              "<style scoped>\n",
              "    .dataframe tbody tr th:only-of-type {\n",
              "        vertical-align: middle;\n",
              "    }\n",
              "\n",
              "    .dataframe tbody tr th {\n",
              "        vertical-align: top;\n",
              "    }\n",
              "\n",
              "    .dataframe thead th {\n",
              "        text-align: right;\n",
              "    }\n",
              "</style>\n",
              "<table border=\"1\" class=\"dataframe\">\n",
              "  <thead>\n",
              "    <tr style=\"text-align: right;\">\n",
              "      <th></th>\n",
              "      <th>class</th>\n",
              "      <th>text</th>\n",
              "    </tr>\n",
              "  </thead>\n",
              "  <tbody>\n",
              "    <tr>\n",
              "      <th>110</th>\n",
              "      <td>Camera</td>\n",
              "      <td>Having looked around the Web for a digital camera I was looking at either the Z1 or the Canon EOD300 Rebel  Unfortunately the Rebel was out of my price range so I bought the Z1  Overall I made a very good choice The camera takes good pictures in the majority of circumstances  You can have full control over the aperture  exposure and focus should you wish too  The camera can take over some or all of the functions too if you wish Low light shooting is easy and there is an option for sunset preserve to keep the warmth of a picture rather than overexpose to simulate full light  Fast moving objects need good light  as you would expect  but the camera can still operate at speeds approaching 1600 ISO  the speeds are quoted in seconds and fractions so you will have to convert to ISO yourself if you are that way inclined Night shooting is an exercise in steadyness and the threaded mount is inline with the lens so tripods are easy to attach and use with the camera  The position of the trigger means taht a decent push is needed often spoiling the shot through movement on the tripod  I tended to use the time delay function after lining the shot up  since the exposur time was generally 2 seconds you wouldnt be able to take moment in time shots anyway as you would blur  however if motion blur was wanted for a set time then the lack of a remote may hinder you The flash was good with the red eye reduction setting annoying  3 distinct flashes are used rather than the usual strobe  but effective The viewfinder shows a full picture but it has an obvious border so you will get more than you see  The LCD screen shows the full picture  observed by me not scientifically proved  The viewfinder and LCD screen are served by the same mechanism and therefore cannot be activated at the same time  Long exposure shots are restricted to 10 seconds maximum  the sensor simply cannot take long exposure  I typically call long exposure at least 1 minute with traditional cameras taking maybe 30 minutes onwards  This is not a fault of the camera as most digital cameras suffer the same fate of  overheated  CCDs  Only the EOD300 can have long exposures  I have seen a 10 minute exposure picture  for a budget camera 10x optical zoom is terrific and even the autofocus at maximum zoom is quick and efficient  A certain knack needs to be adopted with the camera since the shutter trigger is a two position button  A half press will continually focus and a full press will take the picture  therefore if you simply press the button the shutter will appear to be slow since the focusing mechanism will kick in before the picture is taken  If you are anticipating a fast shot then half hold the button to activate the autofocus then the shutter can be activated quickly  Usign this methods the camer was faultless and fast I have never been a fan of megapixels to rate a camera  Rather the resolutions on offer are good and true  2048 scale very well   but dont expect many per a 128Mb card never mind the bundled 16Mb  Colour reproduction is faithful on daylight shots and average for evening shots with maybe a hint of overglow Battery life is great on rechargeables  I got 300 shots from a set of 2100 NIMH before they needed charging and I was using autofocus and zoom a lot  however if you use alkalines then expect 200 before the batteries are drained   note they wont be useless  good enough for remotes or clocks  but they have lost the edge for the drain the camera needs For negative points  the build quality is average  The mechanican shutter jammed on my only 1 week into using it  I couldnt shift between LCD and viewfinder and a heavy press was needed on the back screen to release the shutter  Not good  The battery compartment seems VERY flimsy and I worry about breaking it everytime I use it  and I charge my batteries in a smart charger not internally  No AC supply is included but the majority of people who need one will have a regulated supply to hand anyway The lack of remote function is the only noteable omission from a rather useful bargain camera</td>\n",
              "    </tr>\n",
              "    <tr>\n",
              "      <th>419</th>\n",
              "      <td>Auto</td>\n",
              "      <td>I bought a 2002 Eclipse because I had a 1992 V4 RS that I had to get rid of due to the birth of my daughter  Now that she no longer requires attention while I m having to manually shift gears  I have me another one  I found the V6 GT to be A LOT tighter than the 1992 I had  My husband and I recently went on an 1 100 mile trip in the car to far West Texas  We found ourselves repeatedly dodging deer  raccoons  jackrabbits  lizards and any other critter that happened on the road  The Eclipse hugged the curves  stayed on the road and responded quickly and this was at speeds of 80 90 miles per hour  It is also quite a bit quieter with very little road noise or engine noise  The clutch and gear shift is soft and quick  I don t have any problems with grinding  while shifting  when I skip a gear  The sound system is nice  My daughters car seat fits nicely in the back and I don t have problems getting her out  I can fit more stuff in my Eclipse than I can in my Stratus  I would recommend this car for a responsible  mature driver  I would not recommend it for a teenager  The car will flat get away from you given the chance</td>\n",
              "    </tr>\n",
              "  </tbody>\n",
              "</table>\n",
              "</div>\n",
              "      <button class=\"colab-df-convert\" onclick=\"convertToInteractive('df-30872296-4f8b-47b5-a11c-9fa4576d669d')\"\n",
              "              title=\"Convert this dataframe to an interactive table.\"\n",
              "              style=\"display:none;\">\n",
              "        \n",
              "  <svg xmlns=\"http://www.w3.org/2000/svg\" height=\"24px\"viewBox=\"0 0 24 24\"\n",
              "       width=\"24px\">\n",
              "    <path d=\"M0 0h24v24H0V0z\" fill=\"none\"/>\n",
              "    <path d=\"M18.56 5.44l.94 2.06.94-2.06 2.06-.94-2.06-.94-.94-2.06-.94 2.06-2.06.94zm-11 1L8.5 8.5l.94-2.06 2.06-.94-2.06-.94L8.5 2.5l-.94 2.06-2.06.94zm10 10l.94 2.06.94-2.06 2.06-.94-2.06-.94-.94-2.06-.94 2.06-2.06.94z\"/><path d=\"M17.41 7.96l-1.37-1.37c-.4-.4-.92-.59-1.43-.59-.52 0-1.04.2-1.43.59L10.3 9.45l-7.72 7.72c-.78.78-.78 2.05 0 2.83L4 21.41c.39.39.9.59 1.41.59.51 0 1.02-.2 1.41-.59l7.78-7.78 2.81-2.81c.8-.78.8-2.07 0-2.86zM5.41 20L4 18.59l7.72-7.72 1.47 1.35L5.41 20z\"/>\n",
              "  </svg>\n",
              "      </button>\n",
              "      \n",
              "  <style>\n",
              "    .colab-df-container {\n",
              "      display:flex;\n",
              "      flex-wrap:wrap;\n",
              "      gap: 12px;\n",
              "    }\n",
              "\n",
              "    .colab-df-convert {\n",
              "      background-color: #E8F0FE;\n",
              "      border: none;\n",
              "      border-radius: 50%;\n",
              "      cursor: pointer;\n",
              "      display: none;\n",
              "      fill: #1967D2;\n",
              "      height: 32px;\n",
              "      padding: 0 0 0 0;\n",
              "      width: 32px;\n",
              "    }\n",
              "\n",
              "    .colab-df-convert:hover {\n",
              "      background-color: #E2EBFA;\n",
              "      box-shadow: 0px 1px 2px rgba(60, 64, 67, 0.3), 0px 1px 3px 1px rgba(60, 64, 67, 0.15);\n",
              "      fill: #174EA6;\n",
              "    }\n",
              "\n",
              "    [theme=dark] .colab-df-convert {\n",
              "      background-color: #3B4455;\n",
              "      fill: #D2E3FC;\n",
              "    }\n",
              "\n",
              "    [theme=dark] .colab-df-convert:hover {\n",
              "      background-color: #434B5C;\n",
              "      box-shadow: 0px 1px 3px 1px rgba(0, 0, 0, 0.15);\n",
              "      filter: drop-shadow(0px 1px 2px rgba(0, 0, 0, 0.3));\n",
              "      fill: #FFFFFF;\n",
              "    }\n",
              "  </style>\n",
              "\n",
              "      <script>\n",
              "        const buttonEl =\n",
              "          document.querySelector('#df-30872296-4f8b-47b5-a11c-9fa4576d669d button.colab-df-convert');\n",
              "        buttonEl.style.display =\n",
              "          google.colab.kernel.accessAllowed ? 'block' : 'none';\n",
              "\n",
              "        async function convertToInteractive(key) {\n",
              "          const element = document.querySelector('#df-30872296-4f8b-47b5-a11c-9fa4576d669d');\n",
              "          const dataTable =\n",
              "            await google.colab.kernel.invokeFunction('convertToInteractive',\n",
              "                                                     [key], {});\n",
              "          if (!dataTable) return;\n",
              "\n",
              "          const docLinkHtml = 'Like what you see? Visit the ' +\n",
              "            '<a target=\"_blank\" href=https://colab.research.google.com/notebooks/data_table.ipynb>data table notebook</a>'\n",
              "            + ' to learn more about interactive tables.';\n",
              "          element.innerHTML = '';\n",
              "          dataTable['output_type'] = 'display_data';\n",
              "          await google.colab.output.renderOutput(dataTable, element);\n",
              "          const docLink = document.createElement('div');\n",
              "          docLink.innerHTML = docLinkHtml;\n",
              "          element.appendChild(docLink);\n",
              "        }\n",
              "      </script>\n",
              "    </div>\n",
              "  </div>\n",
              "  "
            ]
          },
          "metadata": {},
          "execution_count": 36
        }
      ]
    },
    {
      "cell_type": "code",
      "source": [
        "len(train)   #reviso la longitud de testo de train "
      ],
      "metadata": {
        "colab": {
          "base_uri": "https://localhost:8080/"
        },
        "id": "OLcgcLjkDsv0",
        "outputId": "c05277b8-4828-4522-fd53-b8cf555c8622"
      },
      "execution_count": 37,
      "outputs": [
        {
          "output_type": "execute_result",
          "data": {
            "text/plain": [
              "402"
            ]
          },
          "metadata": {},
          "execution_count": 37
        }
      ]
    },
    {
      "cell_type": "code",
      "source": [
        "len(test)   #reviso la longitud de texto de test"
      ],
      "metadata": {
        "colab": {
          "base_uri": "https://localhost:8080/"
        },
        "id": "Xryv8vwJDwJL",
        "outputId": "cbbd2ff3-c7d4-4066-c427-735ea05e57ac"
      },
      "execution_count": 38,
      "outputs": [
        {
          "output_type": "execute_result",
          "data": {
            "text/plain": [
              "198"
            ]
          },
          "metadata": {},
          "execution_count": 38
        }
      ]
    },
    {
      "cell_type": "code",
      "source": [
        "train['class'].value_counts() #valido los datos que se tienen de cada articulo en train "
      ],
      "metadata": {
        "colab": {
          "base_uri": "https://localhost:8080/"
        },
        "id": "Nbe1J2lLFD7v",
        "outputId": "c4d4e040-ebc2-46fa-9dee-956d98706261"
      },
      "execution_count": 39,
      "outputs": [
        {
          "output_type": "execute_result",
          "data": {
            "text/plain": [
              "Camera    239\n",
              "Auto      163\n",
              "Name: class, dtype: int64"
            ]
          },
          "metadata": {},
          "execution_count": 39
        }
      ]
    },
    {
      "cell_type": "code",
      "source": [
        "test['class'].value_counts()  #valido los datos que se tienen de cada articulo en test"
      ],
      "metadata": {
        "colab": {
          "base_uri": "https://localhost:8080/"
        },
        "id": "ls1Tp8ePFMdZ",
        "outputId": "ce39fca7-790f-4b8a-9b34-64f7a1e25cb4"
      },
      "execution_count": 40,
      "outputs": [
        {
          "output_type": "execute_result",
          "data": {
            "text/plain": [
              "Camera    111\n",
              "Auto       87\n",
              "Name: class, dtype: int64"
            ]
          },
          "metadata": {},
          "execution_count": 40
        }
      ]
    },
    {
      "cell_type": "code",
      "source": [
        "train_x = train['text'].to_list()  #divido los datos train y los paso a lista \n",
        "train_y = train['class'].to_list()"
      ],
      "metadata": {
        "id": "HlxhOhkBGkMD"
      },
      "execution_count": 58,
      "outputs": []
    },
    {
      "cell_type": "code",
      "source": [
        "test_x = test['text'].to_list()   #divido los datos test y los paso a lista \n",
        "test_y = test['class'].to_list()"
      ],
      "metadata": {
        "id": "eoPit9cSGyAI"
      },
      "execution_count": 59,
      "outputs": []
    },
    {
      "cell_type": "code",
      "source": [
        "from sklearn.feature_extraction.text import CountVectorizer  #modelo de bolsa de palabras para representar un documento \n",
        "vectorizer = CountVectorizer()                                  #ignorando el orden de las palabras "
      ],
      "metadata": {
        "id": "oiq7EnT3IzLr"
      },
      "execution_count": 60,
      "outputs": []
    },
    {
      "cell_type": "code",
      "source": [
        "train_x_vectors = vectorizer.fit_transform(train_x)"
      ],
      "metadata": {
        "id": "yXlnWNQBKiLN"
      },
      "execution_count": 61,
      "outputs": []
    },
    {
      "cell_type": "code",
      "source": [
        "test_x_vectors = vectorizer.transform(test_x)"
      ],
      "metadata": {
        "id": "u1hOuwFnLKhc"
      },
      "execution_count": 62,
      "outputs": []
    },
    {
      "cell_type": "code",
      "source": [
        "train_x_vectors.shape"
      ],
      "metadata": {
        "colab": {
          "base_uri": "https://localhost:8080/"
        },
        "id": "C5XVzZLWLQy_",
        "outputId": "269be62e-3141-411a-d005-51ea9584d141"
      },
      "execution_count": 63,
      "outputs": [
        {
          "output_type": "execute_result",
          "data": {
            "text/plain": [
              "(402, 10558)"
            ]
          },
          "metadata": {},
          "execution_count": 63
        }
      ]
    },
    {
      "cell_type": "code",
      "source": [
        "print(train_x_vectors[0])  #me dice que la palabra de la posicion ej 4618 esta 2 veces en cada opinion de clientes \n",
        "                            #, la 1539 3 veces ..etc"
      ],
      "metadata": {
        "colab": {
          "base_uri": "https://localhost:8080/"
        },
        "id": "VAPZZmC2MCUU",
        "outputId": "365807c8-cdfc-46b4-bae7-858305da76e7"
      },
      "execution_count": 64,
      "outputs": [
        {
          "output_type": "stream",
          "name": "stdout",
          "text": [
            "  (0, 4618)\t2\n",
            "  (0, 1539)\t3\n",
            "  (0, 4802)\t1\n",
            "  (0, 1322)\t3\n",
            "  (0, 3147)\t2\n",
            "  (0, 1957)\t3\n",
            "  (0, 4205)\t1\n",
            "  (0, 2191)\t1\n",
            "  (0, 1889)\t4\n",
            "  (0, 10227)\t1\n",
            "  (0, 9260)\t1\n",
            "  (0, 10321)\t1\n",
            "  (0, 6293)\t3\n",
            "  (0, 4925)\t1\n",
            "  (0, 908)\t1\n",
            "  (0, 4491)\t1\n",
            "  (0, 6595)\t2\n",
            "  (0, 999)\t1\n",
            "  (0, 9343)\t1\n",
            "  (0, 9598)\t13\n",
            "  (0, 8411)\t1\n",
            "  (0, 6913)\t2\n",
            "  (0, 1734)\t1\n",
            "  (0, 8171)\t1\n",
            "  (0, 1131)\t8\n",
            "  :\t:\n",
            "  (0, 2104)\t1\n",
            "  (0, 8404)\t1\n",
            "  (0, 4778)\t1\n",
            "  (0, 4018)\t1\n",
            "  (0, 852)\t1\n",
            "  (0, 10438)\t1\n",
            "  (0, 5386)\t2\n",
            "  (0, 4062)\t1\n",
            "  (0, 10403)\t1\n",
            "  (0, 9466)\t1\n",
            "  (0, 9479)\t1\n",
            "  (0, 10454)\t1\n",
            "  (0, 5851)\t1\n",
            "  (0, 3319)\t2\n",
            "  (0, 2463)\t2\n",
            "  (0, 3452)\t1\n",
            "  (0, 3948)\t1\n",
            "  (0, 1125)\t1\n",
            "  (0, 6578)\t1\n",
            "  (0, 9338)\t1\n",
            "  (0, 2680)\t1\n",
            "  (0, 6111)\t1\n",
            "  (0, 5725)\t1\n",
            "  (0, 4420)\t1\n",
            "  (0, 4311)\t1\n"
          ]
        }
      ]
    },
    {
      "cell_type": "code",
      "source": [
        "from sklearn.tree import DecisionTreeClassifier  # modelo de arbol de decicion 1\n",
        "clf_dec = DecisionTreeClassifier()\n",
        "clf_dec.fit(train_x_vectors, train_y)"
      ],
      "metadata": {
        "colab": {
          "base_uri": "https://localhost:8080/",
          "height": 74
        },
        "id": "-E9qG_giPn1J",
        "outputId": "a912481c-d3a1-456a-8450-5cfd9157c976"
      },
      "execution_count": 66,
      "outputs": [
        {
          "output_type": "execute_result",
          "data": {
            "text/plain": [
              "DecisionTreeClassifier()"
            ],
            "text/html": [
              "<style>#sk-container-id-2 {color: black;background-color: white;}#sk-container-id-2 pre{padding: 0;}#sk-container-id-2 div.sk-toggleable {background-color: white;}#sk-container-id-2 label.sk-toggleable__label {cursor: pointer;display: block;width: 100%;margin-bottom: 0;padding: 0.3em;box-sizing: border-box;text-align: center;}#sk-container-id-2 label.sk-toggleable__label-arrow:before {content: \"▸\";float: left;margin-right: 0.25em;color: #696969;}#sk-container-id-2 label.sk-toggleable__label-arrow:hover:before {color: black;}#sk-container-id-2 div.sk-estimator:hover label.sk-toggleable__label-arrow:before {color: black;}#sk-container-id-2 div.sk-toggleable__content {max-height: 0;max-width: 0;overflow: hidden;text-align: left;background-color: #f0f8ff;}#sk-container-id-2 div.sk-toggleable__content pre {margin: 0.2em;color: black;border-radius: 0.25em;background-color: #f0f8ff;}#sk-container-id-2 input.sk-toggleable__control:checked~div.sk-toggleable__content {max-height: 200px;max-width: 100%;overflow: auto;}#sk-container-id-2 input.sk-toggleable__control:checked~label.sk-toggleable__label-arrow:before {content: \"▾\";}#sk-container-id-2 div.sk-estimator input.sk-toggleable__control:checked~label.sk-toggleable__label {background-color: #d4ebff;}#sk-container-id-2 div.sk-label input.sk-toggleable__control:checked~label.sk-toggleable__label {background-color: #d4ebff;}#sk-container-id-2 input.sk-hidden--visually {border: 0;clip: rect(1px 1px 1px 1px);clip: rect(1px, 1px, 1px, 1px);height: 1px;margin: -1px;overflow: hidden;padding: 0;position: absolute;width: 1px;}#sk-container-id-2 div.sk-estimator {font-family: monospace;background-color: #f0f8ff;border: 1px dotted black;border-radius: 0.25em;box-sizing: border-box;margin-bottom: 0.5em;}#sk-container-id-2 div.sk-estimator:hover {background-color: #d4ebff;}#sk-container-id-2 div.sk-parallel-item::after {content: \"\";width: 100%;border-bottom: 1px solid gray;flex-grow: 1;}#sk-container-id-2 div.sk-label:hover label.sk-toggleable__label {background-color: #d4ebff;}#sk-container-id-2 div.sk-serial::before {content: \"\";position: absolute;border-left: 1px solid gray;box-sizing: border-box;top: 0;bottom: 0;left: 50%;z-index: 0;}#sk-container-id-2 div.sk-serial {display: flex;flex-direction: column;align-items: center;background-color: white;padding-right: 0.2em;padding-left: 0.2em;position: relative;}#sk-container-id-2 div.sk-item {position: relative;z-index: 1;}#sk-container-id-2 div.sk-parallel {display: flex;align-items: stretch;justify-content: center;background-color: white;position: relative;}#sk-container-id-2 div.sk-item::before, #sk-container-id-2 div.sk-parallel-item::before {content: \"\";position: absolute;border-left: 1px solid gray;box-sizing: border-box;top: 0;bottom: 0;left: 50%;z-index: -1;}#sk-container-id-2 div.sk-parallel-item {display: flex;flex-direction: column;z-index: 1;position: relative;background-color: white;}#sk-container-id-2 div.sk-parallel-item:first-child::after {align-self: flex-end;width: 50%;}#sk-container-id-2 div.sk-parallel-item:last-child::after {align-self: flex-start;width: 50%;}#sk-container-id-2 div.sk-parallel-item:only-child::after {width: 0;}#sk-container-id-2 div.sk-dashed-wrapped {border: 1px dashed gray;margin: 0 0.4em 0.5em 0.4em;box-sizing: border-box;padding-bottom: 0.4em;background-color: white;}#sk-container-id-2 div.sk-label label {font-family: monospace;font-weight: bold;display: inline-block;line-height: 1.2em;}#sk-container-id-2 div.sk-label-container {text-align: center;}#sk-container-id-2 div.sk-container {/* jupyter's `normalize.less` sets `[hidden] { display: none; }` but bootstrap.min.css set `[hidden] { display: none !important; }` so we also need the `!important` here to be able to override the default hidden behavior on the sphinx rendered scikit-learn.org. See: https://github.com/scikit-learn/scikit-learn/issues/21755 */display: inline-block !important;position: relative;}#sk-container-id-2 div.sk-text-repr-fallback {display: none;}</style><div id=\"sk-container-id-2\" class=\"sk-top-container\"><div class=\"sk-text-repr-fallback\"><pre>DecisionTreeClassifier()</pre><b>In a Jupyter environment, please rerun this cell to show the HTML representation or trust the notebook. <br />On GitHub, the HTML representation is unable to render, please try loading this page with nbviewer.org.</b></div><div class=\"sk-container\" hidden><div class=\"sk-item\"><div class=\"sk-estimator sk-toggleable\"><input class=\"sk-toggleable__control sk-hidden--visually\" id=\"sk-estimator-id-2\" type=\"checkbox\" checked><label for=\"sk-estimator-id-2\" class=\"sk-toggleable__label sk-toggleable__label-arrow\">DecisionTreeClassifier</label><div class=\"sk-toggleable__content\"><pre>DecisionTreeClassifier()</pre></div></div></div></div></div>"
            ]
          },
          "metadata": {},
          "execution_count": 66
        }
      ]
    },
    {
      "cell_type": "code",
      "source": [
        "# 5 evaluo el modelo"
      ],
      "metadata": {
        "id": "EaDh9u13Qdt9"
      },
      "execution_count": null,
      "outputs": []
    },
    {
      "cell_type": "code",
      "source": [
        "test_x[0]  #reviso el texto "
      ],
      "metadata": {
        "colab": {
          "base_uri": "https://localhost:8080/",
          "height": 161
        },
        "id": "wZ1IHUQKQqzx",
        "outputId": "dc250dd3-1e50-45e5-b241-bb1401b05516"
      },
      "execution_count": 68,
      "outputs": [
        {
          "output_type": "execute_result",
          "data": {
            "text/plain": [
              "' Having looked around the Web for a digital camera I was looking at either the Z1 or the Canon EOD300 Rebel  Unfortunately the Rebel was out of my price range so I bought the Z1  Overall I made a very good choice The camera takes good pictures in the majority of circumstances  You can have full control over the aperture  exposure and focus should you wish too  The camera can take over some or all of the functions too if you wish Low light shooting is easy and there is an option for sunset preserve to keep the warmth of a picture rather than overexpose to simulate full light  Fast moving objects need good light  as you would expect  but the camera can still operate at speeds approaching 1600 ISO  the speeds are quoted in seconds and fractions so you will have to convert to ISO yourself if you are that way inclined Night shooting is an exercise in steadyness and the threaded mount is inline with the lens so tripods are easy to attach and use with the camera  The position of the trigger means taht a decent push is needed often spoiling the shot through movement on the tripod  I tended to use the time delay function after lining the shot up  since the exposur time was generally 2 seconds you wouldnt be able to take moment in time shots anyway as you would blur  however if motion blur was wanted for a set time then the lack of a remote may hinder you The flash was good with the red eye reduction setting annoying  3 distinct flashes are used rather than the usual strobe  but effective The viewfinder shows a full picture but it has an obvious border so you will get more than you see  The LCD screen shows the full picture  observed by me not scientifically proved  The viewfinder and LCD screen are served by the same mechanism and therefore cannot be activated at the same time  Long exposure shots are restricted to 10 seconds maximum  the sensor simply cannot take long exposure  I typically call long exposure at least 1 minute with traditional cameras taking maybe 30 minutes onwards  This is not a fault of the camera as most digital cameras suffer the same fate of  overheated  CCDs  Only the EOD300 can have long exposures  I have seen a 10 minute exposure picture  for a budget camera 10x optical zoom is terrific and even the autofocus at maximum zoom is quick and efficient  A certain knack needs to be adopted with the camera since the shutter trigger is a two position button  A half press will continually focus and a full press will take the picture  therefore if you simply press the button the shutter will appear to be slow since the focusing mechanism will kick in before the picture is taken  If you are anticipating a fast shot then half hold the button to activate the autofocus then the shutter can be activated quickly  Usign this methods the camer was faultless and fast I have never been a fan of megapixels to rate a camera  Rather the resolutions on offer are good and true  2048 scale very well   but dont expect many per a 128Mb card never mind the bundled 16Mb  Colour reproduction is faithful on daylight shots and average for evening shots with maybe a hint of overglow Battery life is great on rechargeables  I got 300 shots from a set of 2100 NIMH before they needed charging and I was using autofocus and zoom a lot  however if you use alkalines then expect 200 before the batteries are drained   note they wont be useless  good enough for remotes or clocks  but they have lost the edge for the drain the camera needs For negative points  the build quality is average  The mechanican shutter jammed on my only 1 week into using it  I couldnt shift between LCD and viewfinder and a heavy press was needed on the back screen to release the shutter  Not good  The battery compartment seems VERY flimsy and I worry about breaking it everytime I use it  and I charge my batteries in a smart charger not internally  No AC supply is included but the majority of people who need one will have a regulated supply to hand anyway The lack of remote function is the only noteable omission from a rather useful bargain camera  '"
            ],
            "application/vnd.google.colaboratory.intrinsic+json": {
              "type": "string"
            }
          },
          "metadata": {},
          "execution_count": 68
        }
      ]
    },
    {
      "cell_type": "code",
      "source": [
        "from IPython.utils import text\n",
        "clf_dec.predict(test_x_vectors[0])  #con predict se hace predixion que el texto anterior corresponde a camara o carro que son \n",
        "                                    #los objetos de la db"
      ],
      "metadata": {
        "colab": {
          "base_uri": "https://localhost:8080/"
        },
        "id": "58HhgtLWQ-4H",
        "outputId": "cd161118-1418-4bef-816c-9af53a8223bf"
      },
      "execution_count": 69,
      "outputs": [
        {
          "output_type": "execute_result",
          "data": {
            "text/plain": [
              "array(['Camera'], dtype='<U6')"
            ]
          },
          "metadata": {},
          "execution_count": 69
        }
      ]
    },
    {
      "cell_type": "code",
      "source": [
        "clf_dec.score(test_x_vectors, test_y) #me dice el porcentaje de si hablan del carro o la camara  "
      ],
      "metadata": {
        "colab": {
          "base_uri": "https://localhost:8080/"
        },
        "id": "9vaC_wb-Sq5p",
        "outputId": "29b84d46-36a1-47c3-8a72-39e9d24a9488"
      },
      "execution_count": 70,
      "outputs": [
        {
          "output_type": "execute_result",
          "data": {
            "text/plain": [
              "0.9949494949494949"
            ]
          },
          "metadata": {},
          "execution_count": 70
        }
      ]
    },
    {
      "cell_type": "code",
      "source": [
        "!apt-get -qq install -y graphviz && pip install pydot\n",
        "import pydot"
      ],
      "metadata": {
        "id": "dhqD-HVDZQ-4"
      },
      "execution_count": null,
      "outputs": []
    },
    {
      "cell_type": "code",
      "source": [
        "!apt-get -qq install -y libarchive-dev && pip install -U libarchive\n",
        "import libarchive"
      ],
      "metadata": {
        "id": "xkpzeniSZUoA"
      },
      "execution_count": null,
      "outputs": []
    },
    {
      "cell_type": "code",
      "source": [
        "!pip install cartopy\n",
        "import cartopy"
      ],
      "metadata": {
        "id": "wQMWODMpZf26"
      },
      "execution_count": null,
      "outputs": []
    },
    {
      "cell_type": "code",
      "source": [
        "!pip install matplotlib-venn"
      ],
      "metadata": {
        "id": "w-mZYfi8Z8BO"
      },
      "execution_count": null,
      "outputs": []
    },
    {
      "cell_type": "code",
      "source": [
        "!apt-get -qq install -y libfluidsynth1"
      ],
      "metadata": {
        "id": "VyEkOf1oaCWi"
      },
      "execution_count": null,
      "outputs": []
    },
    {
      "cell_type": "code",
      "source": [
        "from sklearn.metrics import f1_score    #f1 es el promedio ponderado donde el mejor valor e 1 y la peor es 0 \n",
        "f1_score(test_y, clf_dec.predict(test_x_vectors), average= None)"
      ],
      "metadata": {
        "colab": {
          "base_uri": "https://localhost:8080/"
        },
        "id": "aAG-JGVvaKHZ",
        "outputId": "698c4846-d244-459b-c4f3-34474a5b576f"
      },
      "execution_count": 93,
      "outputs": [
        {
          "output_type": "execute_result",
          "data": {
            "text/plain": [
              "array([0.99428571, 0.99547511])"
            ]
          },
          "metadata": {},
          "execution_count": 93
        }
      ]
    },
    {
      "cell_type": "code",
      "source": [
        "from sklearn.metrics import confusion_matrix  #me muestra  87 son postivos y 110 negativos\n",
        "confusion_matrix(test_y, clf_dec.predict(test_x_vectors))"
      ],
      "metadata": {
        "colab": {
          "base_uri": "https://localhost:8080/"
        },
        "id": "xQfV64ymg19r",
        "outputId": "f9d15df8-3377-461e-8dd3-033f29255bb4"
      },
      "execution_count": 94,
      "outputs": [
        {
          "output_type": "execute_result",
          "data": {
            "text/plain": [
              "array([[ 87,   0],\n",
              "       [  1, 110]])"
            ]
          },
          "metadata": {},
          "execution_count": 94
        }
      ]
    },
    {
      "cell_type": "code",
      "source": [
        "test_de_prueba = ['i like my camera', 'my car is not working']  #para probar el modelo, \n",
        "new_test = vectorizer.transform (test_de_prueba)                # me muestra si una opinion hace referencia a una camara o un carro \n",
        "clf_dec.predict(new_test)                                        #que son los articulos de analisis "
      ],
      "metadata": {
        "colab": {
          "base_uri": "https://localhost:8080/"
        },
        "id": "dtdjrv0qiw91",
        "outputId": "67d4e411-15fa-4e00-c29e-7053fa8448ec"
      },
      "execution_count": 95,
      "outputs": [
        {
          "output_type": "execute_result",
          "data": {
            "text/plain": [
              "array(['Camera', 'Auto'], dtype='<U6')"
            ]
          },
          "metadata": {},
          "execution_count": 95
        }
      ]
    },
    {
      "cell_type": "code",
      "source": [
        "\n",
        "from sklearn import svm\n",
        "clf_svm = svm.SVC(kernel='linear')\n",
        "clf_svm.fit(train_x_vectors, train_y)"
      ],
      "metadata": {
        "colab": {
          "base_uri": "https://localhost:8080/",
          "height": 74
        },
        "id": "twyW_kDQlUWB",
        "outputId": "962dd761-082b-4017-8b81-d54579d6ce7c"
      },
      "execution_count": 98,
      "outputs": [
        {
          "output_type": "execute_result",
          "data": {
            "text/plain": [
              "SVC(kernel='linear')"
            ],
            "text/html": [
              "<style>#sk-container-id-3 {color: black;background-color: white;}#sk-container-id-3 pre{padding: 0;}#sk-container-id-3 div.sk-toggleable {background-color: white;}#sk-container-id-3 label.sk-toggleable__label {cursor: pointer;display: block;width: 100%;margin-bottom: 0;padding: 0.3em;box-sizing: border-box;text-align: center;}#sk-container-id-3 label.sk-toggleable__label-arrow:before {content: \"▸\";float: left;margin-right: 0.25em;color: #696969;}#sk-container-id-3 label.sk-toggleable__label-arrow:hover:before {color: black;}#sk-container-id-3 div.sk-estimator:hover label.sk-toggleable__label-arrow:before {color: black;}#sk-container-id-3 div.sk-toggleable__content {max-height: 0;max-width: 0;overflow: hidden;text-align: left;background-color: #f0f8ff;}#sk-container-id-3 div.sk-toggleable__content pre {margin: 0.2em;color: black;border-radius: 0.25em;background-color: #f0f8ff;}#sk-container-id-3 input.sk-toggleable__control:checked~div.sk-toggleable__content {max-height: 200px;max-width: 100%;overflow: auto;}#sk-container-id-3 input.sk-toggleable__control:checked~label.sk-toggleable__label-arrow:before {content: \"▾\";}#sk-container-id-3 div.sk-estimator input.sk-toggleable__control:checked~label.sk-toggleable__label {background-color: #d4ebff;}#sk-container-id-3 div.sk-label input.sk-toggleable__control:checked~label.sk-toggleable__label {background-color: #d4ebff;}#sk-container-id-3 input.sk-hidden--visually {border: 0;clip: rect(1px 1px 1px 1px);clip: rect(1px, 1px, 1px, 1px);height: 1px;margin: -1px;overflow: hidden;padding: 0;position: absolute;width: 1px;}#sk-container-id-3 div.sk-estimator {font-family: monospace;background-color: #f0f8ff;border: 1px dotted black;border-radius: 0.25em;box-sizing: border-box;margin-bottom: 0.5em;}#sk-container-id-3 div.sk-estimator:hover {background-color: #d4ebff;}#sk-container-id-3 div.sk-parallel-item::after {content: \"\";width: 100%;border-bottom: 1px solid gray;flex-grow: 1;}#sk-container-id-3 div.sk-label:hover label.sk-toggleable__label {background-color: #d4ebff;}#sk-container-id-3 div.sk-serial::before {content: \"\";position: absolute;border-left: 1px solid gray;box-sizing: border-box;top: 0;bottom: 0;left: 50%;z-index: 0;}#sk-container-id-3 div.sk-serial {display: flex;flex-direction: column;align-items: center;background-color: white;padding-right: 0.2em;padding-left: 0.2em;position: relative;}#sk-container-id-3 div.sk-item {position: relative;z-index: 1;}#sk-container-id-3 div.sk-parallel {display: flex;align-items: stretch;justify-content: center;background-color: white;position: relative;}#sk-container-id-3 div.sk-item::before, #sk-container-id-3 div.sk-parallel-item::before {content: \"\";position: absolute;border-left: 1px solid gray;box-sizing: border-box;top: 0;bottom: 0;left: 50%;z-index: -1;}#sk-container-id-3 div.sk-parallel-item {display: flex;flex-direction: column;z-index: 1;position: relative;background-color: white;}#sk-container-id-3 div.sk-parallel-item:first-child::after {align-self: flex-end;width: 50%;}#sk-container-id-3 div.sk-parallel-item:last-child::after {align-self: flex-start;width: 50%;}#sk-container-id-3 div.sk-parallel-item:only-child::after {width: 0;}#sk-container-id-3 div.sk-dashed-wrapped {border: 1px dashed gray;margin: 0 0.4em 0.5em 0.4em;box-sizing: border-box;padding-bottom: 0.4em;background-color: white;}#sk-container-id-3 div.sk-label label {font-family: monospace;font-weight: bold;display: inline-block;line-height: 1.2em;}#sk-container-id-3 div.sk-label-container {text-align: center;}#sk-container-id-3 div.sk-container {/* jupyter's `normalize.less` sets `[hidden] { display: none; }` but bootstrap.min.css set `[hidden] { display: none !important; }` so we also need the `!important` here to be able to override the default hidden behavior on the sphinx rendered scikit-learn.org. See: https://github.com/scikit-learn/scikit-learn/issues/21755 */display: inline-block !important;position: relative;}#sk-container-id-3 div.sk-text-repr-fallback {display: none;}</style><div id=\"sk-container-id-3\" class=\"sk-top-container\"><div class=\"sk-text-repr-fallback\"><pre>SVC(kernel=&#x27;linear&#x27;)</pre><b>In a Jupyter environment, please rerun this cell to show the HTML representation or trust the notebook. <br />On GitHub, the HTML representation is unable to render, please try loading this page with nbviewer.org.</b></div><div class=\"sk-container\" hidden><div class=\"sk-item\"><div class=\"sk-estimator sk-toggleable\"><input class=\"sk-toggleable__control sk-hidden--visually\" id=\"sk-estimator-id-3\" type=\"checkbox\" checked><label for=\"sk-estimator-id-3\" class=\"sk-toggleable__label sk-toggleable__label-arrow\">SVC</label><div class=\"sk-toggleable__content\"><pre>SVC(kernel=&#x27;linear&#x27;)</pre></div></div></div></div></div>"
            ]
          },
          "metadata": {},
          "execution_count": 98
        }
      ]
    },
    {
      "cell_type": "code",
      "source": [
        "clf_svm.score(test_x_vectors,test_y)"
      ],
      "metadata": {
        "colab": {
          "base_uri": "https://localhost:8080/"
        },
        "id": "rG1DXe_Kmq88",
        "outputId": "7cf39f1f-0bf1-444b-9961-6a2c137a9e0f"
      },
      "execution_count": 99,
      "outputs": [
        {
          "output_type": "execute_result",
          "data": {
            "text/plain": [
              "1.0"
            ]
          },
          "metadata": {},
          "execution_count": 99
        }
      ]
    }
  ]
}